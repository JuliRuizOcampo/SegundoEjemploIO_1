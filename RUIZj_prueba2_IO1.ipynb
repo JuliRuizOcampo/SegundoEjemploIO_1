{
  "nbformat": 4,
  "nbformat_minor": 0,
  "metadata": {
    "colab": {
      "provenance": [],
      "authorship_tag": "ABX9TyOHAIx4S4hofkkX46XYwobS",
      "include_colab_link": true
    },
    "kernelspec": {
      "name": "python3",
      "display_name": "Python 3"
    },
    "language_info": {
      "name": "python"
    }
  },
  "cells": [
    {
      "cell_type": "markdown",
      "metadata": {
        "id": "view-in-github",
        "colab_type": "text"
      },
      "source": [
        "<a href=\"https://colab.research.google.com/github/JulianOcampo777/SegundoEjemploIO_1/blob/main/RUIZj_prueba2_IO1.ipynb\" target=\"_parent\"><img src=\"https://colab.research.google.com/assets/colab-badge.svg\" alt=\"Open In Colab\"/></a>"
      ]
    },
    {
      "cell_type": "markdown",
      "source": [
        "#primer ejercicio"
      ],
      "metadata": {
        "id": "NLE9lv6a5Jwb"
      }
    },
    {
      "cell_type": "code",
      "execution_count": 2,
      "metadata": {
        "colab": {
          "base_uri": "https://localhost:8080/"
        },
        "id": "ImaiR_0_40VW",
        "outputId": "e6834cee-561b-4e3e-c542-223e28285e40"
      },
      "outputs": [
        {
          "output_type": "stream",
          "name": "stdout",
          "text": [
            "Hola mundo\n"
          ]
        }
      ],
      "source": [
        "print(\"Hola mundo\")"
      ]
    },
    {
      "cell_type": "markdown",
      "source": [
        "#segundo ejercicio"
      ],
      "metadata": {
        "id": "dUHK6A1e5h3C"
      }
    },
    {
      "cell_type": "code",
      "source": [
        "print(\"Buenos dias,\", \"Julian\")"
      ],
      "metadata": {
        "colab": {
          "base_uri": "https://localhost:8080/"
        },
        "id": "qkBUWO1J5cMa",
        "outputId": "d396483c-c48e-4372-a1d6-8d3542d0c0f9"
      },
      "execution_count": 4,
      "outputs": [
        {
          "output_type": "stream",
          "name": "stdout",
          "text": [
            "Buenos dias, Julian\n"
          ]
        }
      ]
    }
  ]
}